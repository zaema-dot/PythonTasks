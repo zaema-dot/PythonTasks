{
 "cells": [
  {
   "cell_type": "markdown",
   "metadata": {},
   "source": [
    "Task 1\n",
    "Write a program that should find all such numbers that are divisible by 7\n",
    "but are not a multiple of 5, between 2000 and 3200 (both included).\n",
    "The numbers obtained should be printed in a comma-separated sequence on a single line."
   ]
  },
  {
   "cell_type": "code",
   "execution_count": 2,
   "metadata": {},
   "outputs": [
    {
     "name": "stdout",
     "output_type": "stream",
     "text": [
      "2002,2009,2016,2023,2037,2044,2051,2058,2072,2079,2086,2093,2107,2114,2121,2128,2142,2149,2156,2163,2177,2184,2191,2198,2212,2219,2226,2233,2247,2254,2261,2268,2282,2289,2296,2303,2317,2324,2331,2338,2352,2359,2366,2373,2387,2394,2401,2408,2422,2429,2436,2443,2457,2464,2471,2478,2492,2499,2702,2709,2716,2723,2737,2744,2751,2758,2772,2779,2786,2793,2807,2814,2821,2828,2842,2849,2856,2863,2877,2884,2891,2898,2912,2919,2926,2933,2947,2954,2961,2968,2982,2989,2996,3003,3017,3024,3031,3038,3052,3059,3066,3073,3087,3094,3101,3108,3122,3129,3136,3143,3157,3164,3171,3178,3192,3199\n"
     ]
    }
   ],
   "source": [
    "#make a list of numbers that will be printed in the end\n",
    "printable = []\n",
    "\n",
    "# define a function to check if the number is divisible by 7\n",
    "def is_div_by_7(num):\n",
    "    # if the modulus of the number with 7 is 0, then it is a divisible of 7\n",
    "    if num % 7 == 0: \n",
    "        return True\n",
    "    else:\n",
    "        return False\n",
    "    \n",
    "# define a function to check if the number is a multiple of 5\n",
    "def is_mul_of_5(num):\n",
    "    # if the modulus of the number with 5 is 0, then it is a multiple of 5\n",
    "    if num % 5 == 0:\n",
    "        return True\n",
    "    else:\n",
    "        return False\n",
    "\n",
    "# iterate through numbers from 2000 to 3200 (inclusive)\n",
    "# if theyre divisible by 7 and not a multiple of 5, append them to the printable list\n",
    "for i in range(2000, 3201):\n",
    "    if i >=2500 and i<=2700:\n",
    "        continue\n",
    "    if is_div_by_7(i) and not is_mul_of_5(i):\n",
    "        printable.append(i)\n",
    "\n",
    "# print the results in a comma separated sequence on a single line, using a separator\n",
    "print(*printable, sep=',')"
   ]
  }
 ],
 "metadata": {
  "kernelspec": {
   "display_name": "Python 3",
   "language": "python",
   "name": "python3"
  },
  "language_info": {
   "codemirror_mode": {
    "name": "ipython",
    "version": 3
   },
   "file_extension": ".py",
   "mimetype": "text/x-python",
   "name": "python",
   "nbconvert_exporter": "python",
   "pygments_lexer": "ipython3",
   "version": "3.9.5"
  }
 },
 "nbformat": 4,
 "nbformat_minor": 2
}
